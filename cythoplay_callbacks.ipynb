{
 "cells": [
  {
   "cell_type": "markdown",
   "metadata": {},
   "source": [
    "# Modifying cytosim objects\n",
    "Requires Python>=3.7  \n",
    "Before running, copy or move the cytosim module (cytosim.---.so) to the current folder.\n",
    "\n",
    "Here we showcase by changing a fiber."
   ]
  },
  {
   "cell_type": "code",
   "execution_count": 1,
   "metadata": {},
   "outputs": [],
   "source": [
    "import cytoplay\n",
    "import numpy as np\n"
   ]
  },
  {
   "cell_type": "markdown",
   "metadata": {},
   "source": [
    "## Fiber simulation\n",
    "Here we simulate and a fiber. Each point correspond to the end of a segment."
   ]
  },
  {
   "cell_type": "code",
   "execution_count": 2,
   "metadata": {},
   "outputs": [],
   "source": [
    "sim = cytoplay.start(\"hero.cym\")\n",
    "\n"
   ]
  },
  {
   "cell_type": "code",
   "execution_count": 3,
   "metadata": {},
   "outputs": [
    {
     "data": {
      "text/plain": [
       "0.004"
      ]
     },
     "execution_count": 3,
     "metadata": {},
     "output_type": "execute_result"
    }
   ],
   "source": [
    "dt = sim.time_step()\n",
    "dt"
   ]
  },
  {
   "cell_type": "code",
   "execution_count": 4,
   "metadata": {},
   "outputs": [],
   "source": [
    "frame = sim.frame()\n",
    "hero = frame[\"good\"][0]\n",
    "bads = frame[\"bad\"]\n",
    "pts =  np.array(hero.data(), copy=False)\n",
    "badies = [np.array(bad.data(), copy=False) for bad in bads]\n",
    "speedos = [dt*20.0*(np.random.rand(1,2)-0.5) for bad in bads]"
   ]
  },
  {
   "cell_type": "code",
   "execution_count": 5,
   "metadata": {},
   "outputs": [],
   "source": [
    "speed = np.zeros((1,2))\n",
    "acc = np.zeros((1,2))"
   ]
  },
  {
   "cell_type": "code",
   "execution_count": 6,
   "metadata": {},
   "outputs": [],
   "source": [
    "maxspeed = 20.0\n",
    "decel = 10*dt"
   ]
  },
  {
   "cell_type": "code",
   "execution_count": 7,
   "metadata": {},
   "outputs": [],
   "source": [
    "distSqr = np.square(bads[0].radius() + hero.radius())"
   ]
  },
  {
   "cell_type": "code",
   "execution_count": 8,
   "metadata": {},
   "outputs": [],
   "source": [
    "def runtime_all(s, speed, pts):\n",
    "    for i,pt in enumerate(badies): \n",
    "        pt += speedos[i]\n",
    "        if np.sum(np.square(pts-pt)) < distSqr:\n",
    "            sim.change(\"good\",\"display = (color = red)\")\n",
    "\n",
    "    \n",
    "    speed -= speed*decel\n",
    "    speed += acc*dt\n",
    "    ns = np.sqrt(np.sum(np.square(speed)))\n",
    "    if ns>maxspeed:\n",
    "        speed *= maxspeed/ns\n",
    "    pts += speed*dt\n",
    "    acc[:,:] = 0\n",
    "    "
   ]
  },
  {
   "cell_type": "code",
   "execution_count": 9,
   "metadata": {},
   "outputs": [],
   "source": [
    "runtime = lambda s:runtime_all(s, speed, pts)"
   ]
  },
  {
   "cell_type": "code",
   "execution_count": 10,
   "metadata": {},
   "outputs": [],
   "source": [
    "def key_cb(key, i, j):\n",
    "    changed = 1\n",
    "    mult = 5000\n",
    "    if key==113:\n",
    "        acc[:,0]-=mult\n",
    "    elif key==100:\n",
    "        acc[:,0]+=mult\n",
    "    elif key==122:\n",
    "        acc[:,1]+=mult\n",
    "    elif key==115:\n",
    "        acc[:,1]-=mult\n",
    "    else:\n",
    "        return key\n",
    "    return 0\n",
    "        \n",
    "        "
   ]
  },
  {
   "cell_type": "code",
   "execution_count": 11,
   "metadata": {},
   "outputs": [],
   "source": [
    "cytoplay.setNormalKey(key_cb)\n",
    "cytoplay.setRuntimeCheck(runtime)"
   ]
  },
  {
   "cell_type": "code",
   "execution_count": null,
   "metadata": {},
   "outputs": [],
   "source": [
    "try:\n",
    "    cytoplay.play()\n",
    "except:\n",
    "    print(\"Simulation crashed or ended.\")"
   ]
  },
  {
   "cell_type": "code",
   "execution_count": null,
   "metadata": {},
   "outputs": [],
   "source": []
  }
 ],
 "metadata": {
  "kernelspec": {
   "display_name": "Python 3",
   "language": "python",
   "name": "python3"
  },
  "language_info": {
   "codemirror_mode": {
    "name": "ipython",
    "version": 3
   },
   "file_extension": ".py",
   "mimetype": "text/x-python",
   "name": "python",
   "nbconvert_exporter": "python",
   "pygments_lexer": "ipython3",
   "version": "3.8.5"
  }
 },
 "nbformat": 4,
 "nbformat_minor": 4
}
